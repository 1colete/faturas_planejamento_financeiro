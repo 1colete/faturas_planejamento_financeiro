{
 "cells": [
  {
   "cell_type": "code",
   "execution_count": null,
   "metadata": {},
   "outputs": [],
   "source": [
    "import pdfplumber\n",
    "import pandas as pd\n",
    "import re\n",
    "\n",
    "\n",
    "\n",
    "nubank = \"fatura_nubank.pdf\"\n",
    "\n",
    "santander = \"fatura_santander.pdf\"\n",
    "senha_satander = \"CPF\"\n",
    "\n",
    "bb = \"fatura_bb.pdf\"\n",
    "\n",
    "fatura_itau ="
   ]
  },
  {
   "cell_type": "markdown",
   "metadata": {},
   "source": [
    "# Nubank"
   ]
  },
  {
   "cell_type": "code",
   "execution_count": null,
   "metadata": {},
   "outputs": [],
   "source": [
    "# linha pagamento de despesa\n",
    "data_re = re.compile(r'(^\\d{2}) ([A-Z]{3}) ([A-Z].*) (\\d{2}.*)')\n",
    "# pagamento de fatura\n",
    "pagto_fatura = re.compile(r'(^\\d{2}) ([A-Z]{3}) (Pagamento em)')\n",
    "\n",
    "with pdfplumber.open(nubank) as pdf:\n",
    "    page = pdf.pages[3]\n",
    "    text = page.extract_text()\n",
    "    \n",
    "    line_items = []\n",
    "\n",
    "    for line in text.split('\\n'):\n",
    "        if pagto_fatura.search(line):\n",
    "            next\n",
    "        else:\n",
    "            line = data_re.search(line)\n",
    "            if line:\n",
    "                data = line.group(1)\n",
    "                mes = line.group(2)\n",
    "                local = line.group(3)\n",
    "                valor = line.group(4)\n",
    "                parcelas = \"\"\n",
    "\n",
    "                line_items.append((data, mes, local, valor, parcelas))\n",
    "\n",
    "    dfnu = pd.DataFrame(line_items)\n",
    "    dfnu.columns = [\"data\", \"mes\", \"local\", \"valor\", \"parcelas\"]"
   ]
  },
  {
   "cell_type": "code",
   "execution_count": null,
   "metadata": {},
   "outputs": [],
   "source": [
    "dfnu"
   ]
  },
  {
   "cell_type": "markdown",
   "metadata": {},
   "source": [
    "# Santander"
   ]
  },
  {
   "cell_type": "code",
   "execution_count": null,
   "metadata": {},
   "outputs": [],
   "source": [
    "#compra = re.compile(r'(\\d)\\s(\\d{2})/(\\d{2}) ([A-Z]+) ((\\d{2})/(\\d{2})) (\\d{2}.*){1}\\s?(\\d{2}.*)?')\n",
    "compra = re.compile(r'(\\d|\\s{1,2})(\\d{2})/(\\d{2}) ([a-zA-Z0-9].*|\\s*\\s) ')\n",
    " \n",
    "with pdfplumber.open(santander,password=senha_satander) as pdf:\n",
    "    page = pdf.pages[1]\n",
    "    text = page.extract_text()\n",
    "    \n",
    "    line_items = []\n",
    "\n",
    "    for line in text.split('\\n'):\n",
    "        coisa = compra.search(line)\n",
    "        if coisa:\n",
    "            print(coisa.group(0))\n",
    "            \"\"\"mes = coisa.group(3)\n",
    "            local = coisa.group(4)\n",
    "            parcelas = coisa.group(5)\n",
    "            valor = coisa.group(8)\"\"\"\n",
    "            \n",
    "            line_items.append((data, mes, local, valor,parcelas))\n",
    "    dfsa = pd.DataFrame(line_items)\n",
    "    #dfsa.columns = [\"data\", \"mes\", \"local\", \"valor\", \"parcelas\"]"
   ]
  },
  {
   "cell_type": "code",
   "execution_count": null,
   "metadata": {},
   "outputs": [],
   "source": [
    "with pdfplumber.open(santander,password=senha_satander) as pdf:\n",
    "    page = pdf.pages[1]\n",
    "    text = page.extract_text()\n",
    "    print"
   ]
  },
  {
   "cell_type": "code",
   "execution_count": null,
   "metadata": {},
   "outputs": [],
   "source": [
    "dfsa"
   ]
  },
  {
   "cell_type": "markdown",
   "metadata": {},
   "source": [
    "# BB"
   ]
  },
  {
   "cell_type": "code",
   "execution_count": null,
   "metadata": {},
   "outputs": [],
   "source": [
    "with pdfplumber.open(bb) as pdf:\n",
    "    page = pdf.pages[2]\n",
    "    text = page.extract_text()\n",
    "    \n",
    "    line_items = []\n",
    "\n",
    "    for line in text.split('\\n'):\n",
    "        \n",
    "        if pagto_fatura.search(line):\n",
    "            print (line)\n",
    "            next\n",
    "        else:\n",
    "#             print (line)\n",
    "            line = data_re.search(line)\n",
    "            if line:\n",
    "                data = line.group(1)\n",
    "                mes = line.group(2)\n",
    "                local = line.group(3)\n",
    "                valor = line.group(4)\n",
    "\n",
    "                line_items.append((data, mes, local, valor))\n",
    "                print (line_items)\n",
    "    df = pd.DataFrame(line_items)\n",
    "#     df.columns = [\"data\", \"mes\", \"local\", \"valor\"]"
   ]
  },
  {
   "cell_type": "code",
   "execution_count": null,
   "metadata": {},
   "outputs": [],
   "source": [
    "df"
   ]
  },
  {
   "cell_type": "code",
   "execution_count": null,
   "metadata": {},
   "outputs": [],
   "source": []
  }
 ],
 "metadata": {
  "kernelspec": {
   "display_name": "Python 3",
   "language": "python",
   "name": "python3"
  },
  "language_info": {
   "codemirror_mode": {
    "name": "ipython",
    "version": 3
   },
   "file_extension": ".py",
   "mimetype": "text/x-python",
   "name": "python",
   "nbconvert_exporter": "python",
   "pygments_lexer": "ipython3",
   "version": "3.8.3"
  }
 },
 "nbformat": 4,
 "nbformat_minor": 4
}
